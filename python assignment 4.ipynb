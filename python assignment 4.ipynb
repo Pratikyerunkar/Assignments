{
 "cells": [
  {
   "cell_type": "markdown",
   "id": "921ae56d",
   "metadata": {},
   "source": [
    "### 1.1 Write a Python Program(with class concepts) to find the area of the triangle using the below formula.\n",
    "\n",
    "### area = (s\\*(s-a)\\*(s-b)\\*(s-c)) ** 0.5\n",
    "\n",
    "### Function to take the length of the sides of triangle from user should be defined in the parent class and function to calculate the area should be defined in subclass."
   ]
  },
  {
   "cell_type": "code",
   "execution_count": 1,
   "id": "776774a2",
   "metadata": {},
   "outputs": [
    {
     "name": "stdout",
     "output_type": "stream",
     "text": [
      "Enter side a: 5\n",
      "Enter side b: 6\n",
      "Enter side c: 7\n",
      "Area of traingle is 14.697\n"
     ]
    }
   ],
   "source": [
    "class triangle:\n",
    "    def __init__(self):\n",
    "        self.a=int(input('Enter side a: '))\n",
    "        self.b=int(input('Enter side b: '))\n",
    "        self.c=int(input('Enter side c: '))\n",
    "class calculate(triangle):\n",
    "    def cal(self):\n",
    "        s=(self.a+self.b+self.c)/2\n",
    "        area=(s*(s-self.a)*(s-self.b)*(s-self.c))**0.5\n",
    "        print(f\"Area of traingle is {area:.3f}\")\n",
    "c=calculate()\n",
    "c.cal()"
   ]
  },
  {
   "cell_type": "markdown",
   "id": "f16a9435",
   "metadata": {},
   "source": [
    "### 1.2 Write a function filter_long_words() that takes a list of words and an integer n and returns the list of words that are longer than n."
   ]
  },
  {
   "cell_type": "code",
   "execution_count": 2,
   "id": "a8fd12aa",
   "metadata": {},
   "outputs": [],
   "source": [
    "def filter_long_words(words, n):\n",
    "    l = list()\n",
    "    for i in words:\n",
    "        if len(i) > n:\n",
    "            l.append(i)\n",
    "    print(f\"Longest Words are : {l}\")"
   ]
  },
  {
   "cell_type": "code",
   "execution_count": 3,
   "id": "d1c87059",
   "metadata": {},
   "outputs": [
    {
     "name": "stdout",
     "output_type": "stream",
     "text": [
      "Longest Words are : ['Machine Learning', 'Ineuron']\n"
     ]
    }
   ],
   "source": [
    "lst=['Hello','World','abc','Machine Learning','Ineuron']\n",
    "integer=5\n",
    "\n",
    "filter_long_words(lst, integer)"
   ]
  },
  {
   "cell_type": "markdown",
   "id": "f5f0e943",
   "metadata": {},
   "source": [
    "### 2.1 Write a Python program using function concept that maps list of words into a list of integers representing the lengths of the corresponding words. Hint: If a list [ ab,cde,erty] is passed on to the python function output should come as [2,3,4] Here 2,3 and 4 are the lengths of the words in the list.\n"
   ]
  },
  {
   "cell_type": "code",
   "execution_count": 4,
   "id": "ed3799fd",
   "metadata": {},
   "outputs": [],
   "source": [
    "def lenght(lst1):\n",
    "    return len(lst1)"
   ]
  },
  {
   "cell_type": "code",
   "execution_count": 5,
   "id": "e43771f7",
   "metadata": {},
   "outputs": [
    {
     "data": {
      "text/plain": [
       "[3, 2, 8, 34]"
      ]
     },
     "execution_count": 5,
     "metadata": {},
     "output_type": "execute_result"
    }
   ],
   "source": [
    "lst1=['abc','ab','asdadasd','addweqwdaxsdaaddfdjjdjkfuckpwdadni']\n",
    "\n",
    "\n",
    "length_lst=list(map(lenght,lst1))\n",
    "length_lst"
   ]
  },
  {
   "cell_type": "markdown",
   "id": "bd36cc5e",
   "metadata": {},
   "source": [
    "### 2.2 Write a Python function which takes a character (i.e. a string of length 1) and returns True if it is a vowel, False otherwise."
   ]
  },
  {
   "cell_type": "code",
   "execution_count": 6,
   "id": "d4d2393a",
   "metadata": {},
   "outputs": [],
   "source": [
    "def vowel_check(char):\n",
    "    if char == \"a\" or char == \"e\" or char == \"i\" or char == \"o\" or char == \"u\":\n",
    "        return True\n",
    "    else:\n",
    "        return False"
   ]
  },
  {
   "cell_type": "code",
   "execution_count": 7,
   "id": "1b80b6ad",
   "metadata": {},
   "outputs": [
    {
     "name": "stdout",
     "output_type": "stream",
     "text": [
      "Input Your Character : e\n"
     ]
    },
    {
     "data": {
      "text/plain": [
       "True"
      ]
     },
     "execution_count": 7,
     "metadata": {},
     "output_type": "execute_result"
    }
   ],
   "source": [
    "vowel_check(input('Input Your Character : '))"
   ]
  },
  {
   "cell_type": "code",
   "execution_count": null,
   "id": "b7942f43",
   "metadata": {},
   "outputs": [],
   "source": []
  },
  {
   "cell_type": "code",
   "execution_count": null,
   "id": "16eee2e0",
   "metadata": {},
   "outputs": [],
   "source": []
  }
 ],
 "metadata": {
  "kernelspec": {
   "display_name": "Python 3",
   "language": "python",
   "name": "python3"
  },
  "language_info": {
   "codemirror_mode": {
    "name": "ipython",
    "version": 3
   },
   "file_extension": ".py",
   "mimetype": "text/x-python",
   "name": "python",
   "nbconvert_exporter": "python",
   "pygments_lexer": "ipython3",
   "version": "3.9.1"
  }
 },
 "nbformat": 4,
 "nbformat_minor": 5
}
